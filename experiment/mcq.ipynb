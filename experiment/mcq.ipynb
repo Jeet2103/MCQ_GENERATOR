{
 "cells": [
  {
   "cell_type": "code",
   "execution_count": 21,
   "metadata": {},
   "outputs": [],
   "source": [
    "import os\n",
    "import json\n",
    "import pandas as pd\n",
    "import traceback"
   ]
  },
  {
   "cell_type": "code",
   "execution_count": 22,
   "metadata": {},
   "outputs": [],
   "source": [
    "from langchain.chat_models import ChatOpenAI"
   ]
  },
  {
   "cell_type": "code",
   "execution_count": 23,
   "metadata": {},
   "outputs": [
    {
     "data": {
      "text/plain": [
       "True"
      ]
     },
     "execution_count": 23,
     "metadata": {},
     "output_type": "execute_result"
    }
   ],
   "source": [
    "# load the value which is written in .env file\n",
    "from dotenv import load_dotenv\n",
    "load_dotenv()"
   ]
  },
  {
   "cell_type": "code",
   "execution_count": 24,
   "metadata": {},
   "outputs": [],
   "source": [
    "api_key = os.getenv(\"OPENAI_API_KEY\")"
   ]
  },
  {
   "cell_type": "code",
   "execution_count": 25,
   "metadata": {},
   "outputs": [],
   "source": [
    "\n",
    "llm = ChatOpenAI(openai_api_key = api_key, model_name = 'gpt-3.5-turbo', temperature=0.5)"
   ]
  },
  {
   "cell_type": "code",
   "execution_count": 26,
   "metadata": {},
   "outputs": [],
   "source": [
    "from langchain.llms import OpenAI\n",
    "from langchain.chains import LLMChain, SequentialChain \n",
    "from langchain.prompts import PromptTemplate\n",
    "from langchain.callbacks import get_openai_callback\n",
    "import PyPDF2"
   ]
  },
  {
   "cell_type": "code",
   "execution_count": 27,
   "metadata": {},
   "outputs": [],
   "source": [
    "RESPONSE_JSON = {\n",
    "    \"1\": {\n",
    "        \"mcq\": \"multiple choice question\",\n",
    "        \"options\": {\n",
    "            \"a\": \"choice here\",\n",
    "            \"b\": \"choice here\",\n",
    "            \"c\": \"choice here\",\n",
    "            \"d\": \"choice here\",\n",
    "        },\n",
    "        \"correct\": \"correct answer\",\n",
    "    },\n",
    "    \"2\": {\n",
    "        \"mcq\": \"multiple choice question\",\n",
    "        \"options\": {\n",
    "            \"a\": \"choice here\",\n",
    "            \"b\": \"choice here\",\n",
    "            \"c\": \"choice here\",\n",
    "            \"d\": \"choice here\",\n",
    "        },\n",
    "        \"correct\": \"correct answer\",\n",
    "    },\n",
    "    \"3\": {\n",
    "        \"mcq\": \"multiple choice question\",\n",
    "        \"options\": {\n",
    "            \"a\": \"choice here\",\n",
    "            \"b\": \"choice here\",\n",
    "            \"c\": \"choice here\",\n",
    "            \"d\": \"choice here\",\n",
    "        },\n",
    "        \"correct\": \"correct answer\",\n",
    "    },\n",
    "}"
   ]
  },
  {
   "cell_type": "code",
   "execution_count": 28,
   "metadata": {},
   "outputs": [],
   "source": [
    "TEMPLATE = \"\"\"\n",
    "Text: {text}\n",
    "You are an expert MCQ maker. Given the above text, it is your job to \\\n",
    "create a quiz of {number} multiple choice questions for {subject} students in {tone} tone.\n",
    "Make sure the questions are not repeated and check all the questions to be conforming the text as well.\n",
    "Make sure to format your response like RESPONSE JSON below and use it as a guide. \\\n",
    "Ensure to make {number} MCQS\n",
    "### RESPONSE_JSON\n",
    "{response_json}\n",
    "\"\"\"\n",
    "\n"
   ]
  },
  {
   "cell_type": "code",
   "execution_count": 29,
   "metadata": {},
   "outputs": [],
   "source": [
    "quiz_generation_prompt = PromptTemplate(\n",
    "    input_variables=[\"text\", \"number\", \"subject\", \"tone\", \"response_json\"],\n",
    "    template = TEMPLATE\n",
    ")"
   ]
  },
  {
   "cell_type": "code",
   "execution_count": 30,
   "metadata": {},
   "outputs": [],
   "source": [
    "quiz_chain = LLMChain(llm = llm, prompt= quiz_generation_prompt, output_key= \"quiz\", verbose = True)"
   ]
  },
  {
   "cell_type": "code",
   "execution_count": 31,
   "metadata": {},
   "outputs": [],
   "source": [
    "TEMPLATE2=\"\"\"\n",
    "You are an expert english grammarian and writer. Given a Multiple Choice Quiz for {subject} students.\\\n",
    "You need to evaluate the complexity of the question and give a complete analysis of the quiz. Only use at max 50 words for complexity analysis. \n",
    "if the quiz is not at per with the cognitive and analytical abilities of the students,\\\n",
    "update the quiz questions which needs to be changed and change the tone such that it perfectly fits the student abilities\n",
    "Quiz_MCQs:\n",
    "{quiz}\n",
    "\n",
    "Check from an expert English Writer of the above quiz:\n",
    "\"\"\""
   ]
  },
  {
   "cell_type": "code",
   "execution_count": 32,
   "metadata": {},
   "outputs": [],
   "source": [
    "quiz_evaluation_prompt = PromptTemplate(input_variables=[\"subject\", \"quiz\"], template= TEMPLATE2)"
   ]
  },
  {
   "cell_type": "code",
   "execution_count": 33,
   "metadata": {},
   "outputs": [],
   "source": [
    "review_chain = LLMChain(llm = llm, prompt= quiz_evaluation_prompt, output_key=\"review\", verbose= True)"
   ]
  },
  {
   "cell_type": "code",
   "execution_count": 34,
   "metadata": {},
   "outputs": [],
   "source": [
    "generate_evaluate_chain=SequentialChain(chains=[quiz_chain, review_chain], input_variables=[\"text\", \"number\", \"subject\", \"tone\", \"response_json\"],\n",
    "                                        output_variables=[\"quiz\", \"review\"], verbose=True,)"
   ]
  },
  {
   "cell_type": "code",
   "execution_count": 35,
   "metadata": {},
   "outputs": [],
   "source": [
    "file_path = \"D:\\Coding file\\Generative_AI\\code\\MCQ_GENERATOR\\data.txt\""
   ]
  },
  {
   "cell_type": "code",
   "execution_count": 36,
   "metadata": {},
   "outputs": [],
   "source": [
    "with open (file_path,'r') as file:\n",
    "    TEXT = file.read()"
   ]
  },
  {
   "cell_type": "code",
   "execution_count": 37,
   "metadata": {},
   "outputs": [
    {
     "data": {
      "text/plain": [
       "'Romanticism was an artistic, literary, and intellectual movement that originated in Europe in the late 18th century and peaked in the first half of the 19th century. It was characterized by a deep appreciation of the beauty and power of nature, an emphasis on emotion and individualism, and a fascination with the past, particularly the medieval era and the sublime. Romanticism emerged as a reaction against the Industrial Revolution and the scientific rationalization of nature, which were hallmarks of the Enlightenment.\\n\\nIn literature, Romanticism was marked by the works of poets such as William Wordsworth, Samuel Taylor Coleridge, Lord Byron, Percy Bysshe Shelley, and John Keats in England, and Johann Wolfgang von Goethe in Germany. These writers often explored themes of beauty, nature, love, and the struggles of the human spirit. They celebrated the individual’s connection to the natural world and emphasized the importance of imagination and personal experience over societal norms and conventions.\\n\\nIn art, Romanticism gave rise to dramatic, expressive works that often depicted intense emotional experiences and the majesty of untamed landscapes. Painters like Caspar David Friedrich, J.M.W. Turner, and Francisco Goya captured the awe-inspiring power of nature and the depths of human emotion in their works. Their paintings frequently featured scenes of wild, stormy skies, rugged mountains, and desolate ruins, reflecting the Romantic fascination with the sublime and the transient nature of existence.\\n\\nIn music, the Romantic era saw composers such as Ludwig van Beethoven, Franz Schubert, Frédéric Chopin, and Richard Wagner push the boundaries of musical expression. They created compositions that were rich in emotion, often exploring themes of heroism, love, and nature. The music of this period is characterized by its emphasis on melody, dramatic contrasts, and the use of expanded orchestras to create a fuller, more expressive sound.\\n\\nOverall, Romanticism represented a shift towards a more emotional, individualistic, and nature-centered worldview. It challenged the cold, mechanical perspective of the Enlightenment, celebrating instead the beauty, mystery, and complexity of the human experience.'"
      ]
     },
     "execution_count": 37,
     "metadata": {},
     "output_type": "execute_result"
    }
   ],
   "source": [
    "TEXT"
   ]
  },
  {
   "cell_type": "code",
   "execution_count": 39,
   "metadata": {},
   "outputs": [],
   "source": [
    "# dictionary to json\n",
    "response_json = json.dumps(RESPONSE_JSON)"
   ]
  },
  {
   "cell_type": "code",
   "execution_count": 41,
   "metadata": {},
   "outputs": [],
   "source": [
    "NUMBER = 5\n",
    "SUBJECT =\"Romanticism\"\n",
    "TONE = \"simple\""
   ]
  },
  {
   "cell_type": "code",
   "execution_count": 42,
   "metadata": {},
   "outputs": [
    {
     "name": "stderr",
     "output_type": "stream",
     "text": [
      "c:\\Users\\hp\\.conda\\envs\\GENAI\\lib\\site-packages\\langchain_core\\_api\\deprecation.py:139: LangChainDeprecationWarning: The method `Chain.__call__` was deprecated in langchain 0.1.0 and will be removed in 0.3.0. Use invoke instead.\n",
      "  warn_deprecated(\n"
     ]
    },
    {
     "name": "stdout",
     "output_type": "stream",
     "text": [
      "\n",
      "\n",
      "\u001b[1m> Entering new SequentialChain chain...\u001b[0m\n",
      "\n",
      "\n",
      "\u001b[1m> Entering new LLMChain chain...\u001b[0m\n",
      "Prompt after formatting:\n",
      "\u001b[32;1m\u001b[1;3m\n",
      "Text: Romanticism was an artistic, literary, and intellectual movement that originated in Europe in the late 18th century and peaked in the first half of the 19th century. It was characterized by a deep appreciation of the beauty and power of nature, an emphasis on emotion and individualism, and a fascination with the past, particularly the medieval era and the sublime. Romanticism emerged as a reaction against the Industrial Revolution and the scientific rationalization of nature, which were hallmarks of the Enlightenment.\n",
      "\n",
      "In literature, Romanticism was marked by the works of poets such as William Wordsworth, Samuel Taylor Coleridge, Lord Byron, Percy Bysshe Shelley, and John Keats in England, and Johann Wolfgang von Goethe in Germany. These writers often explored themes of beauty, nature, love, and the struggles of the human spirit. They celebrated the individual’s connection to the natural world and emphasized the importance of imagination and personal experience over societal norms and conventions.\n",
      "\n",
      "In art, Romanticism gave rise to dramatic, expressive works that often depicted intense emotional experiences and the majesty of untamed landscapes. Painters like Caspar David Friedrich, J.M.W. Turner, and Francisco Goya captured the awe-inspiring power of nature and the depths of human emotion in their works. Their paintings frequently featured scenes of wild, stormy skies, rugged mountains, and desolate ruins, reflecting the Romantic fascination with the sublime and the transient nature of existence.\n",
      "\n",
      "In music, the Romantic era saw composers such as Ludwig van Beethoven, Franz Schubert, Frédéric Chopin, and Richard Wagner push the boundaries of musical expression. They created compositions that were rich in emotion, often exploring themes of heroism, love, and nature. The music of this period is characterized by its emphasis on melody, dramatic contrasts, and the use of expanded orchestras to create a fuller, more expressive sound.\n",
      "\n",
      "Overall, Romanticism represented a shift towards a more emotional, individualistic, and nature-centered worldview. It challenged the cold, mechanical perspective of the Enlightenment, celebrating instead the beauty, mystery, and complexity of the human experience.\n",
      "You are an expert MCQ maker. Given the above text, it is your job to create a quiz of 5 multiple choice questions for Romanticism students in simple tone.\n",
      "Make sure the questions are not repeated and check all the questions to be conforming the text as well.\n",
      "Make sure to format your response like RESPONSE JSON below and use it as a guide. Ensure to make 5 MCQS\n",
      "### RESPONSE_JSON\n",
      "{\"1\": {\"mcq\": \"multiple choice question\", \"options\": {\"a\": \"choice here\", \"b\": \"choice here\", \"c\": \"choice here\", \"d\": \"choice here\"}, \"correct\": \"correct answer\"}, \"2\": {\"mcq\": \"multiple choice question\", \"options\": {\"a\": \"choice here\", \"b\": \"choice here\", \"c\": \"choice here\", \"d\": \"choice here\"}, \"correct\": \"correct answer\"}, \"3\": {\"mcq\": \"multiple choice question\", \"options\": {\"a\": \"choice here\", \"b\": \"choice here\", \"c\": \"choice here\", \"d\": \"choice here\"}, \"correct\": \"correct answer\"}}\n",
      "\u001b[0m\n",
      "\n",
      "\u001b[1m> Finished chain.\u001b[0m\n",
      "\n",
      "\n",
      "\u001b[1m> Entering new LLMChain chain...\u001b[0m\n",
      "Prompt after formatting:\n",
      "\u001b[32;1m\u001b[1;3m\n",
      "You are an expert english grammarian and writer. Given a Multiple Choice Quiz for Romanticism students.You need to evaluate the complexity of the question and give a complete analysis of the quiz. Only use at max 50 words for complexity analysis. \n",
      "if the quiz is not at per with the cognitive and analytical abilities of the students,update the quiz questions which needs to be changed and change the tone such that it perfectly fits the student abilities\n",
      "Quiz_MCQs:\n",
      "{\n",
      "    \"1\": {\n",
      "        \"mcq\": \"Which movement originated in Europe in the late 18th century and peaked in the first half of the 19th century?\",\n",
      "        \"options\": {\n",
      "            \"a\": \"Baroque\",\n",
      "            \"b\": \"Romanticism\",\n",
      "            \"c\": \"Renaissance\",\n",
      "            \"d\": \"Neoclassicism\"\n",
      "        },\n",
      "        \"correct\": \"b\"\n",
      "    },\n",
      "    \"2\": {\n",
      "        \"mcq\": \"Who are some of the famous poets associated with Romanticism?\",\n",
      "        \"options\": {\n",
      "            \"a\": \"Shakespeare, Milton, Dante\",\n",
      "            \"b\": \"Wordsworth, Coleridge, Byron\",\n",
      "            \"c\": \"Homer, Virgil, Ovid\",\n",
      "            \"d\": \"Chaucer, Spenser, Donne\"\n",
      "        },\n",
      "        \"correct\": \"b\"\n",
      "    },\n",
      "    \"3\": {\n",
      "        \"mcq\": \"What did Romantic painters often depict in their works?\",\n",
      "        \"options\": {\n",
      "            \"a\": \"Cityscapes and urban life\",\n",
      "            \"b\": \"Everyday scenes of domestic life\",\n",
      "            \"c\": \"Untamed landscapes and emotional experiences\",\n",
      "            \"d\": \"Abstract geometric shapes\"\n",
      "        },\n",
      "        \"correct\": \"c\"\n",
      "    },\n",
      "    \"4\": {\n",
      "        \"mcq\": \"Which composers were part of the Romantic era in music?\",\n",
      "        \"options\": {\n",
      "            \"a\": \"Bach, Handel, Vivaldi\",\n",
      "            \"b\": \"Beethoven, Schubert, Chopin\",\n",
      "            \"c\": \"Mozart, Haydn, Salieri\",\n",
      "            \"d\": \"Stravinsky, Debussy, Ravel\"\n",
      "        },\n",
      "        \"correct\": \"b\"\n",
      "    },\n",
      "    \"5\": {\n",
      "        \"mcq\": \"What worldview did Romanticism represent?\",\n",
      "        \"options\": {\n",
      "            \"a\": \"Cold and mechanical\",\n",
      "            \"b\": \"Emotional, individualistic, and nature-centered\",\n",
      "            \"c\": \"Logical and rational\",\n",
      "            \"d\": \"Societal norms and conventions\"\n",
      "        },\n",
      "        \"correct\": \"b\"\n",
      "    }\n",
      "}\n",
      "\n",
      "Check from an expert English Writer of the above quiz:\n",
      "\u001b[0m\n",
      "\n",
      "\u001b[1m> Finished chain.\u001b[0m\n",
      "\n",
      "\u001b[1m> Finished chain.\u001b[0m\n"
     ]
    }
   ],
   "source": [
    "with get_openai_callback() as cb:\n",
    "    response = generate_evaluate_chain(\n",
    "        {\n",
    "            \"text\" : TEXT,\n",
    "            \"number\" : NUMBER,\n",
    "            \"subject\" : SUBJECT,\n",
    "            \"tone\" : TONE,\n",
    "            \"response_json\" : response_json\n",
    "        }\n",
    "    )"
   ]
  },
  {
   "cell_type": "code",
   "execution_count": 45,
   "metadata": {},
   "outputs": [
    {
     "name": "stdout",
     "output_type": "stream",
     "text": [
      "{'text': 'Romanticism was an artistic, literary, and intellectual movement that originated in Europe in the late 18th century and peaked in the first half of the 19th century. It was characterized by a deep appreciation of the beauty and power of nature, an emphasis on emotion and individualism, and a fascination with the past, particularly the medieval era and the sublime. Romanticism emerged as a reaction against the Industrial Revolution and the scientific rationalization of nature, which were hallmarks of the Enlightenment.\\n\\nIn literature, Romanticism was marked by the works of poets such as William Wordsworth, Samuel Taylor Coleridge, Lord Byron, Percy Bysshe Shelley, and John Keats in England, and Johann Wolfgang von Goethe in Germany. These writers often explored themes of beauty, nature, love, and the struggles of the human spirit. They celebrated the individual’s connection to the natural world and emphasized the importance of imagination and personal experience over societal norms and conventions.\\n\\nIn art, Romanticism gave rise to dramatic, expressive works that often depicted intense emotional experiences and the majesty of untamed landscapes. Painters like Caspar David Friedrich, J.M.W. Turner, and Francisco Goya captured the awe-inspiring power of nature and the depths of human emotion in their works. Their paintings frequently featured scenes of wild, stormy skies, rugged mountains, and desolate ruins, reflecting the Romantic fascination with the sublime and the transient nature of existence.\\n\\nIn music, the Romantic era saw composers such as Ludwig van Beethoven, Franz Schubert, Frédéric Chopin, and Richard Wagner push the boundaries of musical expression. They created compositions that were rich in emotion, often exploring themes of heroism, love, and nature. The music of this period is characterized by its emphasis on melody, dramatic contrasts, and the use of expanded orchestras to create a fuller, more expressive sound.\\n\\nOverall, Romanticism represented a shift towards a more emotional, individualistic, and nature-centered worldview. It challenged the cold, mechanical perspective of the Enlightenment, celebrating instead the beauty, mystery, and complexity of the human experience.', 'number': 5, 'subject': 'Romanticism', 'tone': 'simple', 'response_json': '{\"1\": {\"mcq\": \"multiple choice question\", \"options\": {\"a\": \"choice here\", \"b\": \"choice here\", \"c\": \"choice here\", \"d\": \"choice here\"}, \"correct\": \"correct answer\"}, \"2\": {\"mcq\": \"multiple choice question\", \"options\": {\"a\": \"choice here\", \"b\": \"choice here\", \"c\": \"choice here\", \"d\": \"choice here\"}, \"correct\": \"correct answer\"}, \"3\": {\"mcq\": \"multiple choice question\", \"options\": {\"a\": \"choice here\", \"b\": \"choice here\", \"c\": \"choice here\", \"d\": \"choice here\"}, \"correct\": \"correct answer\"}}', 'quiz': '{\\n    \"1\": {\\n        \"mcq\": \"Which movement originated in Europe in the late 18th century and peaked in the first half of the 19th century?\",\\n        \"options\": {\\n            \"a\": \"Baroque\",\\n            \"b\": \"Romanticism\",\\n            \"c\": \"Renaissance\",\\n            \"d\": \"Neoclassicism\"\\n        },\\n        \"correct\": \"b\"\\n    },\\n    \"2\": {\\n        \"mcq\": \"Who are some of the famous poets associated with Romanticism?\",\\n        \"options\": {\\n            \"a\": \"Shakespeare, Milton, Dante\",\\n            \"b\": \"Wordsworth, Coleridge, Byron\",\\n            \"c\": \"Homer, Virgil, Ovid\",\\n            \"d\": \"Chaucer, Spenser, Donne\"\\n        },\\n        \"correct\": \"b\"\\n    },\\n    \"3\": {\\n        \"mcq\": \"What did Romantic painters often depict in their works?\",\\n        \"options\": {\\n            \"a\": \"Cityscapes and urban life\",\\n            \"b\": \"Everyday scenes of domestic life\",\\n            \"c\": \"Untamed landscapes and emotional experiences\",\\n            \"d\": \"Abstract geometric shapes\"\\n        },\\n        \"correct\": \"c\"\\n    },\\n    \"4\": {\\n        \"mcq\": \"Which composers were part of the Romantic era in music?\",\\n        \"options\": {\\n            \"a\": \"Bach, Handel, Vivaldi\",\\n            \"b\": \"Beethoven, Schubert, Chopin\",\\n            \"c\": \"Mozart, Haydn, Salieri\",\\n            \"d\": \"Stravinsky, Debussy, Ravel\"\\n        },\\n        \"correct\": \"b\"\\n    },\\n    \"5\": {\\n        \"mcq\": \"What worldview did Romanticism represent?\",\\n        \"options\": {\\n            \"a\": \"Cold and mechanical\",\\n            \"b\": \"Emotional, individualistic, and nature-centered\",\\n            \"c\": \"Logical and rational\",\\n            \"d\": \"Societal norms and conventions\"\\n        },\\n        \"correct\": \"b\"\\n    }\\n}', 'review': \"The complexity of the quiz questions is appropriate for students studying Romanticism. The questions cover key concepts and figures related to the movement without being overly challenging. The tone is engaging and suitable for students' abilities. No changes are necessary.\"}\n"
     ]
    }
   ],
   "source": [
    "print(response)"
   ]
  },
  {
   "cell_type": "code",
   "execution_count": null,
   "metadata": {},
   "outputs": [],
   "source": []
  }
 ],
 "metadata": {
  "kernelspec": {
   "display_name": "GENAI",
   "language": "python",
   "name": "python3"
  },
  "language_info": {
   "codemirror_mode": {
    "name": "ipython",
    "version": 3
   },
   "file_extension": ".py",
   "mimetype": "text/x-python",
   "name": "python",
   "nbconvert_exporter": "python",
   "pygments_lexer": "ipython3",
   "version": "3.9.19"
  }
 },
 "nbformat": 4,
 "nbformat_minor": 2
}
